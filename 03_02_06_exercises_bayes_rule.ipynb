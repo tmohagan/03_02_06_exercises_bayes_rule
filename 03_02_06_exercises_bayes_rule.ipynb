{
 "cells": [
  {
   "cell_type": "markdown",
   "metadata": {},
   "source": [
    "Be positive\n",
    "\n",
    "98% change positive for the 0.5% who suffer\n",
    "and 10% chance for the 99.5% who do not suffer\n",
    "\n",
    ".98*.005 + .1*.995 = .1044\n",
    "\n"
   ]
  },
  {
   "cell_type": "markdown",
   "metadata": {},
   "source": [
    "Correctly diagnose a sufferer of Thripshaw's\n",
    "\n",
    "A diagnostic test has a 98% probability of giving a positive result when applied to a person suffering from Thripshaw's Disease,\n"
   ]
  },
  {
   "cell_type": "markdown",
   "metadata": {},
   "source": [
    "Correctly identify a non-sufferer of Thripshaw's\n",
    "\n",
    "10% probability of giving a (false) positive when applied to a non-sufferer.\n",
    "\n",
    "If 10% of the time those who don't suffer appear possitive, then the other 90% of the time those who are negative must appear negative.  \n"
   ]
  },
  {
   "cell_type": "markdown",
   "metadata": {},
   "source": [
    "Misclassify the person\n",
    "\n",
    "1-(.98*.005 + .9*.995)=.0996\n",
    "\n",
    "\n",
    "\n"
   ]
  }
 ],
 "metadata": {
  "kernelspec": {
   "display_name": "Python 3",
   "language": "python",
   "name": "python3"
  },
  "language_info": {
   "codemirror_mode": {
    "name": "ipython",
    "version": 3
   },
   "file_extension": ".py",
   "mimetype": "text/x-python",
   "name": "python",
   "nbconvert_exporter": "python",
   "pygments_lexer": "ipython3",
   "version": "3.6.5"
  }
 },
 "nbformat": 4,
 "nbformat_minor": 2
}
